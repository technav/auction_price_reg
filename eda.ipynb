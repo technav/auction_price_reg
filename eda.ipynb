{
 "cells": [
  {
   "cell_type": "code",
   "execution_count": 27,
   "metadata": {},
   "outputs": [],
   "source": [
    "import pandas as pd\n",
    "import matplotlib.pyplot as plt\n",
    "from sklearn.linear_model import LinearRegression\n",
    "import linerreg\n",
    "%matplotlib inline"
   ]
  },
  {
   "cell_type": "code",
   "execution_count": 28,
   "metadata": {
    "collapsed": true
   },
   "outputs": [],
   "source": [
    "from sklearn.linear_model import LinearRegression\n",
    "from sklearn.linear_model import Lasso, Ridge, LinearRegression\n",
    "from sklearn.model_selection import KFold\n",
    "from sklearn.model_selection import train_test_split\n",
    "from sklearn.metrics import mean_squared_error\n",
    "import pandas as pd\n",
    "from sklearn.model_selection import cross_val_score\n",
    "from sklearn import preprocessing"
   ]
  },
  {
   "cell_type": "code",
   "execution_count": 29,
   "metadata": {},
   "outputs": [],
   "source": [
    "df = pd.read_csv('./data/train.csv')\n",
    "df_test = pd.read_csv('./data/test.csv')\n"
   ]
  },
  {
   "cell_type": "code",
   "execution_count": 30,
   "metadata": {
    "collapsed": true
   },
   "outputs": [],
   "source": [
    "# For numeric columns, SalePrice seems to be most associated with MachineID, YearMade, auctioneerID\n",
    "\n",
    "# The goal of the contest is to predict the sale price of a particular piece of heavy equipment at \n",
    "# auction based on it's usage, equipment type, and configuration"
   ]
  },
  {
   "cell_type": "markdown",
   "metadata": {},
   "source": [
    "### Clean up UsageBand"
   ]
  },
  {
   "cell_type": "code",
   "execution_count": 31,
   "metadata": {},
   "outputs": [],
   "source": [
    "df['UsageBand'] = df['UsageBand'].apply(str)\n",
    "df_test['UsageBand'] = df_test['UsageBand'].apply(str)\n",
    "\n",
    "def format_usage_band(usage_band):\n",
    "    usage_band = usage_band.strip()\n",
    "    if usage_band == 'Medium' or usage_band == 'Low' or usage_band == 'High':\n",
    "        return usage_band\n",
    "    else:\n",
    "        return 'Unkown'\n",
    "\n",
    "df['UsageBand'] = df['UsageBand'].apply(format_usage_band)\n",
    "df_test['UsageBand'] = df_test['UsageBand'].apply(format_usage_band)\n"
   ]
  },
  {
   "cell_type": "markdown",
   "metadata": {},
   "source": [
    "### Function to create dummy columns for train/test"
   ]
  },
  {
   "cell_type": "code",
   "execution_count": 32,
   "metadata": {},
   "outputs": [],
   "source": [
    "def get_value(column_value, dummy_column):\n",
    "    value = dummy_column.split('is_')[1].strip().lower()\n",
    "    if value == column_value.strip().lower():\n",
    "        return 1\n",
    "    else: \n",
    "        return 0\n",
    "\n",
    "def create_dummy_column(dataframe, target_column, dummy_column_names):\n",
    "    for dummy_col in dummy_column_names:\n",
    "        df[dummy_col] = df[target_column].apply(get_value, args=(dummy_col,))\n",
    "\n",
    "#For train set        \n",
    "create_dummy_column(df, 'UsageBand', ['is_Low', 'is_Medium', 'is_High', 'is_Unkown'])\n",
    "\n",
    "#For test set\n",
    "create_dummy_column(df_test, 'UsageBand', ['is_Low', 'is_Medium', 'is_High', 'is_Unkown'])\n",
    "\n",
    "\n"
   ]
  },
  {
   "cell_type": "markdown",
   "metadata": {},
   "source": [
    "### Clean up Year Made"
   ]
  },
  {
   "cell_type": "code",
   "execution_count": 33,
   "metadata": {
    "collapsed": true
   },
   "outputs": [],
   "source": [
    "median_year_made = df[df['YearMade'] != 1000]['YearMade'].median()\n",
    "\n",
    "def set_1000_as_median(year_made, median):\n",
    "    if  year_made == 1000:\n",
    "        return median\n",
    "    else:\n",
    "        return year_made\n",
    "\n",
    "df['YearMade'] = df['YearMade'].apply(set_1000_as_median, args=(median_year_made,))"
   ]
  },
  {
   "cell_type": "markdown",
   "metadata": {
    "collapsed": true
   },
   "source": [
    "__Add Machine Age to Train/Test data__"
   ]
  },
  {
   "cell_type": "code",
   "execution_count": 34,
   "metadata": {
    "collapsed": true
   },
   "outputs": [],
   "source": [
    "def add_machage(df):\n",
    "    df['saleyear'] = pd.to_datetime(df['saledate']).apply(lambda d: d.year) \n",
    "    df['machage'] = df['saleyear'] - df['YearMade']\n",
    "\n",
    "add_machage(df)\n",
    "add_machage(df_test)\n",
    "\n",
    "    "
   ]
  },
  {
   "cell_type": "code",
   "execution_count": 51,
   "metadata": {},
   "outputs": [
    {
     "data": {
      "text/plain": [
       "ProductGroupDesc\n",
       "Backhoe Loaders         79415\n",
       "Motor Graders           25489\n",
       "Skid Steer Loaders      43488\n",
       "Track Excavators       101167\n",
       "Track Type Tractors     80520\n",
       "Wheel Loader            71046\n",
       "dtype: int64"
      ]
     },
     "execution_count": 51,
     "metadata": {},
     "output_type": "execute_result"
    }
   ],
   "source": [
    "dist = df.groupby(['ProductGroupDesc'])\n",
    "dist.size()\n"
   ]
  },
  {
   "cell_type": "code",
   "execution_count": 40,
   "metadata": {},
   "outputs": [
    {
     "data": {
      "text/plain": [
       "<matplotlib.text.Text at 0x115b82b50>"
      ]
     },
     "execution_count": 40,
     "metadata": {},
     "output_type": "execute_result"
    },
    {
     "data": {
      "image/png": "[encoded data removed]",
      "text/plain": [
       "<matplotlib.figure.Figure at 0x115bb0090>"
      ]
     },
     "metadata": {},
     "output_type": "display_data"
    }
   ],
   "source": [
    "fig = plt.figure()\n",
    "ax = fig.add_subplot(111)\n",
    "ax.scatter(df['machage'], df['SalePrice']/1000)\n",
    "plt.xlabel('Machine Age')\n",
    "plt.ylabel('Sale Price in Thousands')\n"
   ]
  },
  {
   "cell_type": "code",
   "execution_count": null,
   "metadata": {
    "collapsed": true
   },
   "outputs": [],
   "source": []
  }
 ],
 "metadata": {
  "kernelspec": {
   "display_name": "Python 2",
   "language": "python",
   "name": "python2"
  },
  "language_info": {
   "codemirror_mode": {
    "name": "ipython",
    "version": 2
   },
   "file_extension": ".py",
   "mimetype": "text/x-python",
   "name": "python",
   "nbconvert_exporter": "python",
   "pygments_lexer": "ipython2",
   "version": "2.7.13"
  }
 },
 "nbformat": 4,
 "nbformat_minor": 2
}
